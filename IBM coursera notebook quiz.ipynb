{
 "cells": [
  {
   "cell_type": "markdown",
   "id": "6f408dbd",
   "metadata": {},
   "source": [
    "# Notebook Title\n"
   ]
  },
  {
   "cell_type": "markdown",
   "id": "c213735f",
   "metadata": {},
   "source": [
    "## Introduction\n",
    "\n",
    "Welcome to my notebook! In this analysis, I will be exploring XYZ data to gain insights into the trends and patterns of the dataset. This notebook contains my thought process, data cleaning steps, data visualization, and modeling techniques used to analyze the data. \n",
    "\n",
    "I hope this notebook will be informative and insightful for you!\n"
   ]
  },
  {
   "cell_type": "markdown",
   "id": "3a3bd3ba",
   "metadata": {},
   "source": [
    "## Popular Data Science Languages\n",
    "\n",
    "- Python\n",
    "- R\n",
    "- SQL\n",
    "- Julia\n",
    "- MATLAB\n",
    "- Scala"
   ]
  },
  {
   "cell_type": "markdown",
   "id": "e2dc1ca3",
   "metadata": {},
   "source": [
    "## Data Science Libraries\n",
    "\n",
    "- NumPy\n",
    "- Pandas\n",
    "- Matplotlib\n",
    "- Seaborn\n",
    "- Scikit-learn\n",
    "- TensorFlow\n",
    "- Keras\n",
    "- PyTorch\n",
    "- Statsmodels"
   ]
  },
  {
   "cell_type": "markdown",
   "id": "253c7186",
   "metadata": {},
   "source": [
    "# | Tool | Description |\n",
    "\n",
    "| Python | An interpreted, high-level, general-purpose programming language widely used for Data Science and      Machine Learning. Python comes with many built-in libraries and frameworks that are essential for Data Science, such as NumPy, Pandas, Matplotlib, Scikit-learn, and TensorFlow. |\n",
    "\n",
    "| R | A programming language and software environment used for statistical computing and graphics. R has a wide variety of libraries for data manipulation and visualization, such as ggplot2 and dplyr, as well as packages for statistical modeling and machine learning, such as caret and mlr. |\n",
    "\n",
    "| SQL | A domain-specific language used for managing and querying relational databases. SQL is commonly used in Data Science for working with large datasets and performing data wrangling tasks such as joining, filtering, and aggregating. |\n",
    "\n",
    "| Tableau | A data visualization software that allows users to connect, visualize, and share data in a highly interactive and intuitive way. Tableau is commonly used in Data Science for exploring data, creating dashboards, and communicating insights. |\n",
    "\n",
    "| Power BI\t | A business analytics service by Microsoft that provides interactive visualizations and business intelligence capabilities with an interface simple enough for end users to create their own reports and dashboards. Power BI is commonly used in Data Science for data modeling, report creation, and data analysis. |\n",
    "\n",
    "| Apache Spark\t | An open-source distributed computing system that can process large amounts of data quickly. Spark provides APIs for working with structured, semi-structured, and unstructured data, as well as tools for machine learning and graph processing. Spark can be used in Data Science for large-scale data processing, data exploration, and machine learning. |"
   ]
  },
  {
   "cell_type": "markdown",
   "id": "e612d866",
   "metadata": {},
   "source": [
    "## Arithmetic expressions\n",
    "\n",
    "Arithmetic expressions are a fundamental aspect of mathematics and computer programming. In mathematics, arithmetic expressions are used to perform basic arithmetic operations such as addition, subtraction, multiplication, and division. In computer programming, arithmetic expressions are used to perform numerical computations, such as calculating the sum or average of a set of numbers.\n",
    "\n",
    "Here are some examples of arithmetic expressions:\n",
    "\n",
    "2 + 3: This expression represents the sum of 2 and 3, which is equal to 5.\n",
    "\n",
    "10 - 5: This expression represents the difference between 10 and 5, which is equal to 5.\n",
    "\n",
    "4 * 6: This expression represents the product of 4 and 6, which is equal to 24.\n",
    "\n",
    "15 / 3: This expression represents the quotient of 15 and 3, which is equal to 5.\n",
    "\n",
    "2 ** 3: This expression represents 2 raised to the power of 3, which is equal to 8.\n",
    "\n",
    "(4 + 5) * 3: This expression represents the result of adding 4 and 5, which is 9, and then multiplying that result by 3, which is equal to 27."
   ]
  },
  {
   "cell_type": "code",
   "execution_count": 3,
   "id": "d8eb4e31",
   "metadata": {},
   "outputs": [
    {
     "name": "stdout",
     "output_type": "stream",
     "text": [
      "10\n"
     ]
    }
   ],
   "source": [
    "## Multiply and add numbers\n",
    "a = 2\n",
    "b = 3\n",
    "c = 4\n",
    "result = (a * b) + c\n",
    "print(result)\n"
   ]
  },
  {
   "cell_type": "code",
   "execution_count": 2,
   "id": "966e78bb",
   "metadata": {},
   "outputs": [
    {
     "name": "stdout",
     "output_type": "stream",
     "text": [
      "2.0\n"
     ]
    }
   ],
   "source": [
    "# Convert minutes to hours\n",
    "minutes = 120\n",
    "hours = minutes / 60\n",
    "print(hours)\n"
   ]
  },
  {
   "cell_type": "markdown",
   "id": "0f8b9d3e",
   "metadata": {},
   "source": [
    "## Objectives\n",
    "\n",
    "  The objectives of this project are:\n",
    "\n",
    "- To explore and analyze a dataset of customer sales data\n",
    "- To develop a predictive model to forecast future sales\n",
    "- To identify factors that are correlated with higher sales and recommend strategies to increase sales\n",
    "- To visualize the results of the analysis and model using various data visualization techniques\n",
    "- To communicate the findings and recommendations to stakeholders in a clear and concise manner"
   ]
  },
  {
   "cell_type": "markdown",
   "id": "2ae1b5cd",
   "metadata": {},
   "source": [
    "## Author\n",
    "- This notebook was created by    ## ABDESSLAM CHELH ."
   ]
  }
 ],
 "metadata": {
  "kernelspec": {
   "display_name": "Python 3 (ipykernel)",
   "language": "python",
   "name": "python3"
  },
  "language_info": {
   "codemirror_mode": {
    "name": "ipython",
    "version": 3
   },
   "file_extension": ".py",
   "mimetype": "text/x-python",
   "name": "python",
   "nbconvert_exporter": "python",
   "pygments_lexer": "ipython3",
   "version": "3.10.6"
  }
 },
 "nbformat": 4,
 "nbformat_minor": 5
}
